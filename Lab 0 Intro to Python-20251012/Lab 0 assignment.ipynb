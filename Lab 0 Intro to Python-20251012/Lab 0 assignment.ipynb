{
 "cells": [
  {
   "cell_type": "markdown",
   "metadata": {},
   "source": [
    "# Hands-on exercise\n",
    "\n",
    "In this simple example you are required to perform a simple linear regression with scipy. Find all the information on the function in the documentation: https://docs.scipy.org/doc/scipy/reference/generated/scipy.stats.linregress.html"
   ]
  },
  {
   "cell_type": "markdown",
   "metadata": {},
   "source": [
    "### Assignment\n",
    "\n",
    "1) Load the provided .csv file with the used car data\n",
    "\n",
    "2) Use a linear regression to estimate the car prices from the year, kilometers or engine power. You can make a simple 1D regression from each one of the parameters independently (as an optional task you can also try a 2D or 3D regression combining multiple cues)\n",
    "\n",
    "3) Firstly perform the estimation using the scipy linregress function (or alternatively you can use the sklearn.linear_model.LinearRegression class).\n",
    "NB: check the documentation of the two methods!! In particular be aware of the number of outputs (in case use \"_\" to avoid the return of a specific output).\n",
    "\n",
    "4) Have a look at the correlation coefficient to see which of the 3 features works better\n",
    "\n",
    "5) Then implement the least square algorithm: you should get exactly the same solution of linregress !\n",
    "\n",
    "6) Plot the data and the lines representing the output of the linregress and least square algorithms\n"
   ]
  },
  {
   "cell_type": "code",
   "execution_count": 20,
   "metadata": {},
   "outputs": [],
   "source": [
    "import matplotlib.pyplot as plt\n",
    "import csv\n",
    "from scipy import stats \n",
    "from scipy.stats import linregress\n",
    "import numpy as np\n",
    "import sklearn as sl\n",
    "from sklearn import linear_model"
   ]
  },
  {
   "cell_type": "code",
   "execution_count": 30,
   "metadata": {},
   "outputs": [
    {
     "name": "stdout",
     "output_type": "stream",
     "text": [
      "Elements:  1297\n",
      "[[1.250000e+05 2.001000e+03 4.000000e+01 1.371110e+03]\n",
      " [1.500000e+05 2.001000e+03 4.000000e+01 1.298700e+03]\n",
      " [5.000000e+03 2.001000e+03 6.000000e+01 1.232430e+03]\n",
      " ...\n",
      " [2.000000e+04 2.015000e+03 2.600000e+02 4.949238e+04]\n",
      " [1.000000e+04 2.015000e+03 3.000000e+02 3.854269e+04]\n",
      " [2.000000e+04 2.015000e+03 3.000000e+02 3.968332e+04]]\n"
     ]
    }
   ],
   "source": [
    "# Load the provided data file with the used car data (you can also have a look at it with any text editor)\n",
    "\n",
    "filename = \"data/km_year_power_price.csv\"\n",
    "lines = csv.reader(open(filename, newline=''), delimiter=',')\n",
    "\n",
    "# place your loading code here\n",
    "km = []\n",
    "year = []\n",
    "powerPS = []\n",
    "avgPrice = []\n",
    "dataset = []\n",
    "firstline = True;\n",
    "\n",
    "for l in lines:\n",
    "    if firstline == True:\n",
    "        firstline = False\n",
    "        continue\n",
    "\n",
    "    km.append(float(l[0]))\n",
    "    year.append(float(l[1]))\n",
    "    powerPS.append(float(l[2]))\n",
    "    avgPrice.append(float(l[3]))\n",
    "    dataset.append([float(l[0]), float(l[1]), float(l[2]), float(l[3])])\n",
    "\n",
    "print(\"Elements: \", len(dataset))\n",
    "print(np.array(dataset))"
   ]
  },
  {
   "cell_type": "markdown",
   "metadata": {},
   "source": [
    "Use linear regression to estimate the car prices from the year, kilometers or engine power. \n",
    "You can make a simple 1D regression from each one of the parameters independently \n",
    "\n",
    "\n"
   ]
  },
  {
   "cell_type": "code",
   "execution_count": 33,
   "metadata": {},
   "outputs": [],
   "source": [
    "# linear regression with linregress (estimate price from year)\n",
    "\n",
    "slope, intercept, r, p, se = linregress(np.array(year), np.array(avgPrice))"
   ]
  },
  {
   "cell_type": "code",
   "execution_count": null,
   "metadata": {},
   "outputs": [],
   "source": [
    "# (Optional) linear regression with linear_model.LinearRegression() (estimate price from year)\n",
    "# Recall that in Python a mx1 matrix is different from a 1D array -> need to reshape\n",
    "\n",
    "# your code....."
   ]
  },
  {
   "cell_type": "code",
   "execution_count": null,
   "metadata": {
    "scrolled": true
   },
   "outputs": [],
   "source": [
    "# (Optional) perform linear regression with a manually implemented least squares (estimate price from year)\n",
    "# You should get exactly the same solution of linregress !\n",
    "\n",
    "# your code....."
   ]
  },
  {
   "cell_type": "code",
   "execution_count": 38,
   "metadata": {},
   "outputs": [
    {
     "data": {
      "image/png": "[encoded data removed]",
      "text/plain": [
       "<Figure size 432x288 with 1 Axes>"
      ]
     },
     "metadata": {
      "needs_background": "light"
     },
     "output_type": "display_data"
    }
   ],
   "source": [
    "# Plot the data and the lines representing the output of the linregress and least square algorithms\n",
    "\n",
    "plt.plot(np.array(year), np.array(avgPrice), 'o', label='original data')\n",
    "plt.plot(np.array(year), intercept + slope * np.array(year), 'r', label='fitted line')\n",
    "plt.show()"
   ]
  },
  {
   "cell_type": "code",
   "execution_count": null,
   "metadata": {},
   "outputs": [],
   "source": [
    "# linear regression with linregress (estimate price from power)\n",
    "\n",
    "# your code....."
   ]
  },
  {
   "cell_type": "code",
   "execution_count": null,
   "metadata": {},
   "outputs": [],
   "source": [
    "# linear regression with linregress (estimate price from km)\n",
    "\n",
    "# your code..."
   ]
  },
  {
   "cell_type": "code",
   "execution_count": null,
   "metadata": {},
   "outputs": [],
   "source": [
    "# Have a look at the correlation coefficients to see which of the 3 features works better\n",
    "\n",
    "# your code......"
   ]
  },
  {
   "cell_type": "code",
   "execution_count": null,
   "metadata": {},
   "outputs": [],
   "source": [
    "# (Optional) 2D linear regression with linear model (estimate price from year and power)\n",
    "\n",
    "\n",
    "# your code......\n"
   ]
  }
 ],
 "metadata": {
  "kernelspec": {
   "display_name": "Python 3 (ipykernel)",
   "language": "python",
   "name": "python3"
  },
  "language_info": {
   "codemirror_mode": {
    "name": "ipython",
    "version": 3
   },
   "file_extension": ".py",
   "mimetype": "text/x-python",
   "name": "python",
   "nbconvert_exporter": "python",
   "pygments_lexer": "ipython3",
   "version": "3.12.11"
  }
 },
 "nbformat": 4,
 "nbformat_minor": 4
}
